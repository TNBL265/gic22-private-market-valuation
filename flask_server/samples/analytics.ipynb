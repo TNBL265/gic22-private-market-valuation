{
 "cells": [
  {
   "cell_type": "markdown",
   "id": "8bae8041",
   "metadata": {},
   "source": [
    "# GIC Analytics\n",
    "## Cleaning data (Fixing data types for datetime)"
   ]
  },
  {
   "cell_type": "code",
   "execution_count": 6,
   "id": "0129c3b2",
   "metadata": {},
   "outputs": [],
   "source": [
    "import pandas as pd\n",
    "import numpy as np\n",
    "import json\n",
    "import datetime\n",
    "import warnings\n",
    "warnings.simplefilter(action='ignore', category=FutureWarning)\n",
    "\n",
    "market_values = pd.read_csv('market-values-cleaned.csv')\n",
    "market_values = pd.read_csv('instruments-cleaned.csv')\n",
    "transactions = pd.read_csv('transactions-cleaned.csv')\n",
    "\n",
    "pd.set_option('display.float_format', lambda x: '%.3f' % x)"
   ]
  },
  {
   "cell_type": "code",
   "execution_count": 7,
   "id": "d6aaaac9",
   "metadata": {},
   "outputs": [
    {
     "data": {
      "text/plain": [
       "Index(['instrumentId', 'instrumentName', 'instrumentType', 'country', 'sector',\n",
       "       'instrumentCurrency', 'isTradeable', 'createdAt', 'modifiedAt', 'notes',\n",
       "       'isDeleted'],\n",
       "      dtype='object')"
      ]
     },
     "execution_count": 7,
     "metadata": {},
     "output_type": "execute_result"
    }
   ],
   "source": [
    "market_values[\"isDeleted\"] = False\n",
    "market_values.columns"
   ]
  },
  {
   "cell_type": "code",
   "execution_count": 8,
   "id": "8dfe9658",
   "metadata": {},
   "outputs": [
    {
     "data": {
      "text/html": [
       "<div>\n",
       "<style scoped>\n",
       "    .dataframe tbody tr th:only-of-type {\n",
       "        vertical-align: middle;\n",
       "    }\n",
       "\n",
       "    .dataframe tbody tr th {\n",
       "        vertical-align: top;\n",
       "    }\n",
       "\n",
       "    .dataframe thead th {\n",
       "        text-align: right;\n",
       "    }\n",
       "</style>\n",
       "<table border=\"1\" class=\"dataframe\">\n",
       "  <thead>\n",
       "    <tr style=\"text-align: right;\">\n",
       "      <th></th>\n",
       "      <th>instrumentId</th>\n",
       "      <th>instrumentName</th>\n",
       "      <th>instrumentType</th>\n",
       "      <th>country</th>\n",
       "      <th>sector</th>\n",
       "      <th>instrumentCurrency</th>\n",
       "      <th>isTradeable</th>\n",
       "      <th>isDeleted</th>\n",
       "      <th>createdAt</th>\n",
       "      <th>modifiedAt</th>\n",
       "      <th>notes</th>\n",
       "    </tr>\n",
       "  </thead>\n",
       "  <tbody>\n",
       "    <tr>\n",
       "      <th>0</th>\n",
       "      <td>1</td>\n",
       "      <td>Armstrong - Jacobi</td>\n",
       "      <td>Private Equity</td>\n",
       "      <td>US</td>\n",
       "      <td>Consumer Staples</td>\n",
       "      <td>USD</td>\n",
       "      <td>True</td>\n",
       "      <td>False</td>\n",
       "      <td>2019-02-01 00:00:00</td>\n",
       "      <td>2019-02-01 00:00:00</td>\n",
       "      <td>Private Equity; Consumer Staples; Tradable Ins...</td>\n",
       "    </tr>\n",
       "    <tr>\n",
       "      <th>1</th>\n",
       "      <td>2</td>\n",
       "      <td>Armstrong - Reichert</td>\n",
       "      <td>Private Equity</td>\n",
       "      <td>US</td>\n",
       "      <td>Information Technology</td>\n",
       "      <td>USD</td>\n",
       "      <td>True</td>\n",
       "      <td>False</td>\n",
       "      <td>2019-02-01 00:00:00</td>\n",
       "      <td>2019-02-01 00:00:00</td>\n",
       "      <td>Private Equity; Information Technology; Tradab...</td>\n",
       "    </tr>\n",
       "    <tr>\n",
       "      <th>2</th>\n",
       "      <td>3</td>\n",
       "      <td>Armstrong Sporer and Nikolaus</td>\n",
       "      <td>Private Equity</td>\n",
       "      <td>US</td>\n",
       "      <td>Healthcare</td>\n",
       "      <td>USD</td>\n",
       "      <td>True</td>\n",
       "      <td>False</td>\n",
       "      <td>2019-02-01 00:00:00</td>\n",
       "      <td>2019-02-01 00:00:00</td>\n",
       "      <td>Private Equity; Healthcare; Tradable Instrument</td>\n",
       "    </tr>\n",
       "    <tr>\n",
       "      <th>3</th>\n",
       "      <td>4</td>\n",
       "      <td>Auer - Bailey</td>\n",
       "      <td>Private Equity</td>\n",
       "      <td>US</td>\n",
       "      <td>Industrials</td>\n",
       "      <td>USD</td>\n",
       "      <td>True</td>\n",
       "      <td>False</td>\n",
       "      <td>2019-02-01 00:00:00</td>\n",
       "      <td>2019-02-01 00:00:00</td>\n",
       "      <td>Private Equity; Industrials; Tradable Instrument</td>\n",
       "    </tr>\n",
       "    <tr>\n",
       "      <th>4</th>\n",
       "      <td>5</td>\n",
       "      <td>Bailey - Rosenbaum</td>\n",
       "      <td>Private Equity</td>\n",
       "      <td>US</td>\n",
       "      <td>Information Technology</td>\n",
       "      <td>USD</td>\n",
       "      <td>True</td>\n",
       "      <td>False</td>\n",
       "      <td>2019-02-01 00:00:00</td>\n",
       "      <td>2019-02-01 00:00:00</td>\n",
       "      <td>Private Equity; Information Technology; Tradab...</td>\n",
       "    </tr>\n",
       "    <tr>\n",
       "      <th>...</th>\n",
       "      <td>...</td>\n",
       "      <td>...</td>\n",
       "      <td>...</td>\n",
       "      <td>...</td>\n",
       "      <td>...</td>\n",
       "      <td>...</td>\n",
       "      <td>...</td>\n",
       "      <td>...</td>\n",
       "      <td>...</td>\n",
       "      <td>...</td>\n",
       "      <td>...</td>\n",
       "    </tr>\n",
       "    <tr>\n",
       "      <th>195</th>\n",
       "      <td>196</td>\n",
       "      <td>Wyman - Kling</td>\n",
       "      <td>Private Equity</td>\n",
       "      <td>DE</td>\n",
       "      <td>Healthcare</td>\n",
       "      <td>USD</td>\n",
       "      <td>True</td>\n",
       "      <td>False</td>\n",
       "      <td>2019-02-01 00:00:00</td>\n",
       "      <td>2019-02-01 00:00:00</td>\n",
       "      <td>Private Equity; Healthcare; Tradable Instrument</td>\n",
       "    </tr>\n",
       "    <tr>\n",
       "      <th>196</th>\n",
       "      <td>197</td>\n",
       "      <td>Wyman Mohr and Johns</td>\n",
       "      <td>Private Equity</td>\n",
       "      <td>DE</td>\n",
       "      <td>Communication Services</td>\n",
       "      <td>USD</td>\n",
       "      <td>True</td>\n",
       "      <td>False</td>\n",
       "      <td>2019-02-01 00:00:00</td>\n",
       "      <td>2019-02-01 00:00:00</td>\n",
       "      <td>Private Equity; Communication Services; Tradab...</td>\n",
       "    </tr>\n",
       "    <tr>\n",
       "      <th>197</th>\n",
       "      <td>198</td>\n",
       "      <td>Yost LLC</td>\n",
       "      <td>Private Equity</td>\n",
       "      <td>DE</td>\n",
       "      <td>Financials</td>\n",
       "      <td>USD</td>\n",
       "      <td>True</td>\n",
       "      <td>False</td>\n",
       "      <td>2019-02-01 00:00:00</td>\n",
       "      <td>2019-02-01 00:00:00</td>\n",
       "      <td>Private Equity; Financials; Tradable Instrument</td>\n",
       "    </tr>\n",
       "    <tr>\n",
       "      <th>198</th>\n",
       "      <td>199</td>\n",
       "      <td>Yundt - Macejkovic</td>\n",
       "      <td>Private Equity</td>\n",
       "      <td>DE</td>\n",
       "      <td>Consumer Staples</td>\n",
       "      <td>USD</td>\n",
       "      <td>True</td>\n",
       "      <td>False</td>\n",
       "      <td>2019-02-01 00:00:00</td>\n",
       "      <td>2019-02-01 00:00:00</td>\n",
       "      <td>Private Equity; Consumer Staples; Tradable Ins...</td>\n",
       "    </tr>\n",
       "    <tr>\n",
       "      <th>199</th>\n",
       "      <td>200</td>\n",
       "      <td>Zieme - West</td>\n",
       "      <td>Private Equity</td>\n",
       "      <td>DE</td>\n",
       "      <td>Healthcare</td>\n",
       "      <td>USD</td>\n",
       "      <td>True</td>\n",
       "      <td>False</td>\n",
       "      <td>2019-02-01 00:00:00</td>\n",
       "      <td>2019-02-01 00:00:00</td>\n",
       "      <td>Private Equity; Healthcare; Tradable Instrument</td>\n",
       "    </tr>\n",
       "  </tbody>\n",
       "</table>\n",
       "<p>200 rows × 11 columns</p>\n",
       "</div>"
      ],
      "text/plain": [
       "     instrumentId                 instrumentName  instrumentType country  \\\n",
       "0               1             Armstrong - Jacobi  Private Equity      US   \n",
       "1               2           Armstrong - Reichert  Private Equity      US   \n",
       "2               3  Armstrong Sporer and Nikolaus  Private Equity      US   \n",
       "3               4                  Auer - Bailey  Private Equity      US   \n",
       "4               5             Bailey - Rosenbaum  Private Equity      US   \n",
       "..            ...                            ...             ...     ...   \n",
       "195           196                  Wyman - Kling  Private Equity      DE   \n",
       "196           197           Wyman Mohr and Johns  Private Equity      DE   \n",
       "197           198                       Yost LLC  Private Equity      DE   \n",
       "198           199             Yundt - Macejkovic  Private Equity      DE   \n",
       "199           200                   Zieme - West  Private Equity      DE   \n",
       "\n",
       "                     sector instrumentCurrency  isTradeable  isDeleted  \\\n",
       "0          Consumer Staples                USD         True      False   \n",
       "1    Information Technology                USD         True      False   \n",
       "2                Healthcare                USD         True      False   \n",
       "3               Industrials                USD         True      False   \n",
       "4    Information Technology                USD         True      False   \n",
       "..                      ...                ...          ...        ...   \n",
       "195              Healthcare                USD         True      False   \n",
       "196  Communication Services                USD         True      False   \n",
       "197              Financials                USD         True      False   \n",
       "198        Consumer Staples                USD         True      False   \n",
       "199              Healthcare                USD         True      False   \n",
       "\n",
       "               createdAt           modifiedAt  \\\n",
       "0    2019-02-01 00:00:00  2019-02-01 00:00:00   \n",
       "1    2019-02-01 00:00:00  2019-02-01 00:00:00   \n",
       "2    2019-02-01 00:00:00  2019-02-01 00:00:00   \n",
       "3    2019-02-01 00:00:00  2019-02-01 00:00:00   \n",
       "4    2019-02-01 00:00:00  2019-02-01 00:00:00   \n",
       "..                   ...                  ...   \n",
       "195  2019-02-01 00:00:00  2019-02-01 00:00:00   \n",
       "196  2019-02-01 00:00:00  2019-02-01 00:00:00   \n",
       "197  2019-02-01 00:00:00  2019-02-01 00:00:00   \n",
       "198  2019-02-01 00:00:00  2019-02-01 00:00:00   \n",
       "199  2019-02-01 00:00:00  2019-02-01 00:00:00   \n",
       "\n",
       "                                                 notes  \n",
       "0    Private Equity; Consumer Staples; Tradable Ins...  \n",
       "1    Private Equity; Information Technology; Tradab...  \n",
       "2      Private Equity; Healthcare; Tradable Instrument  \n",
       "3     Private Equity; Industrials; Tradable Instrument  \n",
       "4    Private Equity; Information Technology; Tradab...  \n",
       "..                                                 ...  \n",
       "195    Private Equity; Healthcare; Tradable Instrument  \n",
       "196  Private Equity; Communication Services; Tradab...  \n",
       "197    Private Equity; Financials; Tradable Instrument  \n",
       "198  Private Equity; Consumer Staples; Tradable Ins...  \n",
       "199    Private Equity; Healthcare; Tradable Instrument  \n",
       "\n",
       "[200 rows x 11 columns]"
      ]
     },
     "execution_count": 8,
     "metadata": {},
     "output_type": "execute_result"
    }
   ],
   "source": [
    "market_values = market_values[[\"instrumentId\", \"instrumentName\", \"instrumentType\", \"country\", \"sector\", \n",
    "                              \"instrumentCurrency\", \"isTradeable\", \"isDeleted\", \"createdAt\", \"modifiedAt\", \"notes\"]]\n",
    "market_values"
   ]
  },
  {
   "cell_type": "code",
   "execution_count": 10,
   "id": "a9c40b62",
   "metadata": {},
   "outputs": [],
   "source": [
    "market_values.to_csv('out.csv', index=False)"
   ]
  },
  {
   "cell_type": "markdown",
   "id": "771caa72",
   "metadata": {},
   "source": [
    "## Requirements\n"
   ]
  },
  {
   "cell_type": "markdown",
   "id": "88d81930",
   "metadata": {},
   "source": [
    "### Basic: View cumulative transaction amount, cumulative quantity based on instrument ID"
   ]
  },
  {
   "cell_type": "code",
   "execution_count": 22,
   "id": "12e12fd6",
   "metadata": {},
   "outputs": [
    {
     "data": {
      "text/plain": [
       "'[\\n    {\\n        \"quantity\": 83.0,\\n        \"transactionAmount\": -141105813.75\\n    }\\n]'"
      ]
     },
     "execution_count": 22,
     "metadata": {},
     "output_type": "execute_result"
    }
   ],
   "source": [
    "def view_instrument_data(instrID, transactions):\n",
    "    now = pd.Timestamp.now()\n",
    "    transactions['transactionDate']= pd.to_datetime(transactions['transactionDate'])\n",
    "    transactions = transactions.loc[transactions['isCancelled'] == False]\n",
    "    transactions = transactions.loc[transactions['instrumentId'] == instrID]\n",
    "    transactions = transactions.loc[transactions['transactionDate'] < now]\n",
    "    transactions_filtered = transactions[['quantity', 'transactionAmount', 'instrumentId']]\n",
    "    \n",
    "    results = transactions_filtered.groupby('instrumentId').sum()\n",
    "    result = results.to_json(orient=\"records\")\n",
    "    parsed = json.loads(result)\n",
    "    return json.dumps(parsed, indent=4)\n",
    "    \n",
    "view_instrument_data(152, transactions.copy(deep=True))\n"
   ]
  },
  {
   "cell_type": "markdown",
   "id": "72c91d26",
   "metadata": {},
   "source": [
    "### 2. View total market value of a single investment across a date range"
   ]
  },
  {
   "cell_type": "code",
   "execution_count": 24,
   "id": "ef1d45e5",
   "metadata": {},
   "outputs": [
    {
     "data": {
      "text/plain": [
       "'[\\n    {\\n        \"instrumentId\": 152,\\n        \"instrumentName\": \"Sanford Tremblay and Wunsch\",\\n        \"marketValue\": 120000000.0,\\n        \"marketValueDate\": 1601424000000\\n    },\\n    {\\n        \"instrumentId\": 152,\\n        \"instrumentName\": \"Sanford Tremblay and Wunsch\",\\n        \"marketValue\": 120000000.0,\\n        \"marketValueDate\": 1604102400000\\n    },\\n    {\\n        \"instrumentId\": 152,\\n        \"instrumentName\": \"Sanford Tremblay and Wunsch\",\\n        \"marketValue\": 120000000.0,\\n        \"marketValueDate\": 1606694400000\\n    },\\n    {\\n        \"instrumentId\": 152,\\n        \"instrumentName\": \"Sanford Tremblay and Wunsch\",\\n        \"marketValue\": 147615415.42,\\n        \"marketValueDate\": 1609372800000\\n    },\\n    {\\n        \"instrumentId\": 152,\\n        \"instrumentName\": \"Sanford Tremblay and Wunsch\",\\n        \"marketValue\": 147615415.42,\\n        \"marketValueDate\": 1612051200000\\n    },\\n    {\\n        \"instrumentId\": 152,\\n        \"instrumentName\": \"Sanford Tremblay and Wunsch\",\\n        \"marketValue\": 147615415.42,\\n        \"marketValueDate\": 1614470400000\\n    },\\n    {\\n        \"instrumentId\": 152,\\n        \"instrumentName\": \"Sanford Tremblay and Wunsch\",\\n        \"marketValue\": 175948309.76,\\n        \"marketValueDate\": 1617148800000\\n    },\\n    {\\n        \"instrumentId\": 152,\\n        \"instrumentName\": \"Sanford Tremblay and Wunsch\",\\n        \"marketValue\": 175948309.76,\\n        \"marketValueDate\": 1619740800000\\n    },\\n    {\\n        \"instrumentId\": 152,\\n        \"instrumentName\": \"Sanford Tremblay and Wunsch\",\\n        \"marketValue\": 175948309.76,\\n        \"marketValueDate\": 1622419200000\\n    },\\n    {\\n        \"instrumentId\": 152,\\n        \"instrumentName\": \"Sanford Tremblay and Wunsch\",\\n        \"marketValue\": 175948309.76,\\n        \"marketValueDate\": 1625011200000\\n    },\\n    {\\n        \"instrumentId\": 152,\\n        \"instrumentName\": \"Sanford Tremblay and Wunsch\",\\n        \"marketValue\": 175948309.76,\\n        \"marketValueDate\": 1627689600000\\n    },\\n    {\\n        \"instrumentId\": 152,\\n        \"instrumentName\": \"Sanford Tremblay and Wunsch\",\\n        \"marketValue\": 175948309.76,\\n        \"marketValueDate\": 1630368000000\\n    },\\n    {\\n        \"instrumentId\": 152,\\n        \"instrumentName\": \"Sanford Tremblay and Wunsch\",\\n        \"marketValue\": 175948309.76,\\n        \"marketValueDate\": 1632960000000\\n    },\\n    {\\n        \"instrumentId\": 152,\\n        \"instrumentName\": \"Sanford Tremblay and Wunsch\",\\n        \"marketValue\": 175948309.76,\\n        \"marketValueDate\": 1635638400000\\n    },\\n    {\\n        \"instrumentId\": 152,\\n        \"instrumentName\": \"Sanford Tremblay and Wunsch\",\\n        \"marketValue\": 175948309.76,\\n        \"marketValueDate\": 1638230400000\\n    },\\n    {\\n        \"instrumentId\": 152,\\n        \"instrumentName\": \"Sanford Tremblay and Wunsch\",\\n        \"marketValue\": 175948309.76,\\n        \"marketValueDate\": 1640908800000\\n    },\\n    {\\n        \"instrumentId\": 152,\\n        \"instrumentName\": \"Sanford Tremblay and Wunsch\",\\n        \"marketValue\": 190654650.04,\\n        \"marketValueDate\": 1643587200000\\n    },\\n    {\\n        \"instrumentId\": 152,\\n        \"instrumentName\": \"Sanford Tremblay and Wunsch\",\\n        \"marketValue\": 190654650.04,\\n        \"marketValueDate\": 1646006400000\\n    },\\n    {\\n        \"instrumentId\": 152,\\n        \"instrumentName\": \"Sanford Tremblay and Wunsch\",\\n        \"marketValue\": 175195760.11,\\n        \"marketValueDate\": 1648684800000\\n    },\\n    {\\n        \"instrumentId\": 152,\\n        \"instrumentName\": \"Sanford Tremblay and Wunsch\",\\n        \"marketValue\": 175195760.11,\\n        \"marketValueDate\": 1651276800000\\n    },\\n    {\\n        \"instrumentId\": 152,\\n        \"instrumentName\": \"Sanford Tremblay and Wunsch\",\\n        \"marketValue\": 175195760.11,\\n        \"marketValueDate\": 1653955200000\\n    },\\n    {\\n        \"instrumentId\": 152,\\n        \"instrumentName\": \"Sanford Tremblay and Wunsch\",\\n        \"marketValue\": 175195760.11,\\n        \"marketValueDate\": 1656547200000\\n    },\\n    {\\n        \"instrumentId\": 152,\\n        \"instrumentName\": \"Sanford Tremblay and Wunsch\",\\n        \"marketValue\": 175195760.11,\\n        \"marketValueDate\": 1659225600000\\n    },\\n    {\\n        \"instrumentId\": 152,\\n        \"instrumentName\": \"Sanford Tremblay and Wunsch\",\\n        \"marketValue\": 158277577.49,\\n        \"marketValueDate\": 1661904000000\\n    },\\n    {\\n        \"instrumentId\": 152,\\n        \"instrumentName\": \"Sanford Tremblay and Wunsch\",\\n        \"marketValue\": 158277577.49,\\n        \"marketValueDate\": 1664496000000\\n    }\\n]'"
      ]
     },
     "execution_count": 24,
     "metadata": {},
     "output_type": "execute_result"
    }
   ],
   "source": [
    "def view_single_marketvalue(start, end, instrID, market_values, instruments):\n",
    "    market_values['marketValueDate']= pd.to_datetime(market_values['marketValueDate'])\n",
    "    start_date = pd.Timestamp(start)\n",
    "    end_date = pd.Timestamp(end)\n",
    "    merged_df = pd.merge(left=market_values, right=instruments, left_on='instrumentId', right_on='instrumentId')\n",
    "    merged_df = merged_df[['instrumentId', 'instrumentName', 'marketValue', 'marketValueDate']]\n",
    "    merged_df = merged_df.loc[merged_df['instrumentId'] == instrID]\n",
    "    merged_df = merged_df.loc[(merged_df['marketValueDate'] > start_date) & (merged_df['marketValueDate'] < end_date)]\n",
    "\n",
    "    result = merged_df.to_json(orient=\"records\")\n",
    "    parsed = json.loads(result)\n",
    "    return json.dumps(parsed, indent=4)\n",
    "    \n",
    "    \n",
    "    \n",
    "    \n",
    "view_single_marketvalue(\"20200917\", \"20221217\", 152, market_values.copy(deep=True), instruments.copy(deep=True))"
   ]
  },
  {
   "cell_type": "markdown",
   "id": "2ab15a38",
   "metadata": {},
   "source": [
    "### 3. View the breakdown (by investments) of the net profit/loss of all investments as of a certain date"
   ]
  },
  {
   "cell_type": "code",
   "execution_count": 29,
   "id": "7120fd7f",
   "metadata": {},
   "outputs": [
    {
     "data": {
      "text/plain": [
       "'[\\n    {\\n        \"netprofitloss\": 0,\\n        \"instrumentId\": 1\\n    },\\n    {\\n        \"netprofitloss\": 0,\\n        \"instrumentId\": 2\\n    },\\n    {\\n        \"netprofitloss\": 0,\\n        \"instrumentId\": 3\\n    },\\n    {\\n        \"netprofitloss\": 0,\\n        \"instrumentId\": 4\\n    },\\n    {\\n        \"netprofitloss\": 0,\\n        \"instrumentId\": 5\\n    },\\n    {\\n        \"netprofitloss\": 0,\\n        \"instrumentId\": 6\\n    },\\n    {\\n        \"netprofitloss\": 0,\\n        \"instrumentId\": 7\\n    },\\n    {\\n        \"netprofitloss\": 0,\\n        \"instrumentId\": 8\\n    },\\n    {\\n        \"netprofitloss\": 0,\\n        \"instrumentId\": 9\\n    },\\n    {\\n        \"netprofitloss\": 0,\\n        \"instrumentId\": 10\\n    },\\n    {\\n        \"netprofitloss\": 0,\\n        \"instrumentId\": 11\\n    },\\n    {\\n        \"netprofitloss\": 0,\\n        \"instrumentId\": 12\\n    },\\n    {\\n        \"netprofitloss\": 0,\\n        \"instrumentId\": 13\\n    },\\n    {\\n        \"netprofitloss\": 0,\\n        \"instrumentId\": 14\\n    },\\n    {\\n        \"netprofitloss\": 0,\\n        \"instrumentId\": 15\\n    },\\n    {\\n        \"netprofitloss\": 0,\\n        \"instrumentId\": 16\\n    },\\n    {\\n        \"netprofitloss\": 0,\\n        \"instrumentId\": 17\\n    },\\n    {\\n        \"netprofitloss\": 0,\\n        \"instrumentId\": 18\\n    },\\n    {\\n        \"netprofitloss\": 0,\\n        \"instrumentId\": 19\\n    },\\n    {\\n        \"netprofitloss\": 0,\\n        \"instrumentId\": 20\\n    },\\n    {\\n        \"netprofitloss\": 0,\\n        \"instrumentId\": 21\\n    },\\n    {\\n        \"netprofitloss\": 0,\\n        \"instrumentId\": 22\\n    },\\n    {\\n        \"netprofitloss\": 0,\\n        \"instrumentId\": 23\\n    },\\n    {\\n        \"netprofitloss\": 0,\\n        \"instrumentId\": 24\\n    },\\n    {\\n        \"netprofitloss\": 0,\\n        \"instrumentId\": 25\\n    },\\n    {\\n        \"netprofitloss\": 0,\\n        \"instrumentId\": 26\\n    },\\n    {\\n        \"netprofitloss\": 0,\\n        \"instrumentId\": 27\\n    },\\n    {\\n        \"netprofitloss\": 0,\\n        \"instrumentId\": 28\\n    },\\n    {\\n        \"netprofitloss\": 0,\\n        \"instrumentId\": 29\\n    },\\n    {\\n        \"netprofitloss\": 0,\\n        \"instrumentId\": 30\\n    },\\n    {\\n        \"netprofitloss\": 0,\\n        \"instrumentId\": 31\\n    },\\n    {\\n        \"netprofitloss\": 0,\\n        \"instrumentId\": 32\\n    },\\n    {\\n        \"netprofitloss\": 0,\\n        \"instrumentId\": 33\\n    },\\n    {\\n        \"netprofitloss\": 0,\\n        \"instrumentId\": 34\\n    },\\n    {\\n        \"netprofitloss\": 0,\\n        \"instrumentId\": 35\\n    },\\n    {\\n        \"netprofitloss\": 0,\\n        \"instrumentId\": 36\\n    },\\n    {\\n        \"netprofitloss\": 0,\\n        \"instrumentId\": 37\\n    },\\n    {\\n        \"netprofitloss\": 0,\\n        \"instrumentId\": 38\\n    },\\n    {\\n        \"netprofitloss\": 0,\\n        \"instrumentId\": 39\\n    },\\n    {\\n        \"netprofitloss\": 0,\\n        \"instrumentId\": 40\\n    },\\n    {\\n        \"netprofitloss\": 0,\\n        \"instrumentId\": 41\\n    },\\n    {\\n        \"netprofitloss\": 0,\\n        \"instrumentId\": 42\\n    },\\n    {\\n        \"netprofitloss\": 0,\\n        \"instrumentId\": 43\\n    },\\n    {\\n        \"netprofitloss\": 0,\\n        \"instrumentId\": 44\\n    },\\n    {\\n        \"netprofitloss\": 0,\\n        \"instrumentId\": 45\\n    },\\n    {\\n        \"netprofitloss\": 0,\\n        \"instrumentId\": 46\\n    },\\n    {\\n        \"netprofitloss\": 0,\\n        \"instrumentId\": 47\\n    },\\n    {\\n        \"netprofitloss\": 0,\\n        \"instrumentId\": 48\\n    },\\n    {\\n        \"netprofitloss\": 0,\\n        \"instrumentId\": 49\\n    },\\n    {\\n        \"netprofitloss\": 0,\\n        \"instrumentId\": 50\\n    },\\n    {\\n        \"netprofitloss\": 0,\\n        \"instrumentId\": 51\\n    },\\n    {\\n        \"netprofitloss\": 0,\\n        \"instrumentId\": 52\\n    },\\n    {\\n        \"netprofitloss\": 0,\\n        \"instrumentId\": 53\\n    },\\n    {\\n        \"netprofitloss\": 0,\\n        \"instrumentId\": 54\\n    },\\n    {\\n        \"netprofitloss\": 0,\\n        \"instrumentId\": 55\\n    },\\n    {\\n        \"netprofitloss\": 0,\\n        \"instrumentId\": 56\\n    },\\n    {\\n        \"netprofitloss\": 0,\\n        \"instrumentId\": 57\\n    },\\n    {\\n        \"netprofitloss\": 0,\\n        \"instrumentId\": 58\\n    },\\n    {\\n        \"netprofitloss\": 0,\\n        \"instrumentId\": 59\\n    },\\n    {\\n        \"netprofitloss\": 0,\\n        \"instrumentId\": 60\\n    },\\n    {\\n        \"netprofitloss\": 0,\\n        \"instrumentId\": 61\\n    },\\n    {\\n        \"netprofitloss\": 0,\\n        \"instrumentId\": 62\\n    },\\n    {\\n        \"netprofitloss\": 0,\\n        \"instrumentId\": 63\\n    },\\n    {\\n        \"netprofitloss\": 0,\\n        \"instrumentId\": 64\\n    },\\n    {\\n        \"netprofitloss\": 0,\\n        \"instrumentId\": 65\\n    },\\n    {\\n        \"netprofitloss\": 0,\\n        \"instrumentId\": 66\\n    },\\n    {\\n        \"netprofitloss\": 0,\\n        \"instrumentId\": 67\\n    },\\n    {\\n        \"netprofitloss\": 0,\\n        \"instrumentId\": 68\\n    },\\n    {\\n        \"netprofitloss\": 0,\\n        \"instrumentId\": 69\\n    },\\n    {\\n        \"netprofitloss\": 0,\\n        \"instrumentId\": 70\\n    },\\n    {\\n        \"netprofitloss\": 0,\\n        \"instrumentId\": 71\\n    },\\n    {\\n        \"netprofitloss\": 0,\\n        \"instrumentId\": 72\\n    },\\n    {\\n        \"netprofitloss\": 0,\\n        \"instrumentId\": 73\\n    },\\n    {\\n        \"netprofitloss\": 0,\\n        \"instrumentId\": 74\\n    },\\n    {\\n        \"netprofitloss\": 0,\\n        \"instrumentId\": 75\\n    },\\n    {\\n        \"netprofitloss\": 0,\\n        \"instrumentId\": 76\\n    },\\n    {\\n        \"netprofitloss\": 0,\\n        \"instrumentId\": 77\\n    },\\n    {\\n        \"netprofitloss\": 0,\\n        \"instrumentId\": 78\\n    },\\n    {\\n        \"netprofitloss\": 0,\\n        \"instrumentId\": 79\\n    },\\n    {\\n        \"netprofitloss\": 0,\\n        \"instrumentId\": 80\\n    },\\n    {\\n        \"netprofitloss\": 0,\\n        \"instrumentId\": 81\\n    },\\n    {\\n        \"netprofitloss\": 0,\\n        \"instrumentId\": 82\\n    },\\n    {\\n        \"netprofitloss\": 0,\\n        \"instrumentId\": 83\\n    },\\n    {\\n        \"netprofitloss\": 0,\\n        \"instrumentId\": 84\\n    },\\n    {\\n        \"netprofitloss\": 0,\\n        \"instrumentId\": 85\\n    },\\n    {\\n        \"netprofitloss\": 0,\\n        \"instrumentId\": 86\\n    },\\n    {\\n        \"netprofitloss\": 0,\\n        \"instrumentId\": 87\\n    },\\n    {\\n        \"netprofitloss\": 0,\\n        \"instrumentId\": 88\\n    },\\n    {\\n        \"netprofitloss\": 0,\\n        \"instrumentId\": 89\\n    },\\n    {\\n        \"netprofitloss\": 0,\\n        \"instrumentId\": 90\\n    },\\n    {\\n        \"netprofitloss\": 0,\\n        \"instrumentId\": 91\\n    },\\n    {\\n        \"netprofitloss\": 0,\\n        \"instrumentId\": 92\\n    },\\n    {\\n        \"netprofitloss\": 0,\\n        \"instrumentId\": 93\\n    },\\n    {\\n        \"netprofitloss\": 0,\\n        \"instrumentId\": 94\\n    },\\n    {\\n        \"netprofitloss\": 0,\\n        \"instrumentId\": 95\\n    },\\n    {\\n        \"netprofitloss\": 0,\\n        \"instrumentId\": 96\\n    },\\n    {\\n        \"netprofitloss\": 0,\\n        \"instrumentId\": 97\\n    },\\n    {\\n        \"netprofitloss\": 0,\\n        \"instrumentId\": 98\\n    },\\n    {\\n        \"netprofitloss\": 0,\\n        \"instrumentId\": 99\\n    },\\n    {\\n        \"netprofitloss\": 0,\\n        \"instrumentId\": 100\\n    },\\n    {\\n        \"netprofitloss\": 0,\\n        \"instrumentId\": 101\\n    },\\n    {\\n        \"netprofitloss\": 0,\\n        \"instrumentId\": 102\\n    },\\n    {\\n        \"netprofitloss\": 0,\\n        \"instrumentId\": 103\\n    },\\n    {\\n        \"netprofitloss\": 0,\\n        \"instrumentId\": 104\\n    },\\n    {\\n        \"netprofitloss\": 0,\\n        \"instrumentId\": 105\\n    },\\n    {\\n        \"netprofitloss\": 0,\\n        \"instrumentId\": 106\\n    },\\n    {\\n        \"netprofitloss\": 0,\\n        \"instrumentId\": 107\\n    },\\n    {\\n        \"netprofitloss\": 0,\\n        \"instrumentId\": 108\\n    },\\n    {\\n        \"netprofitloss\": 0,\\n        \"instrumentId\": 109\\n    },\\n    {\\n        \"netprofitloss\": 0,\\n        \"instrumentId\": 110\\n    },\\n    {\\n        \"netprofitloss\": 0,\\n        \"instrumentId\": 111\\n    },\\n    {\\n        \"netprofitloss\": 0,\\n        \"instrumentId\": 112\\n    },\\n    {\\n        \"netprofitloss\": 0,\\n        \"instrumentId\": 113\\n    },\\n    {\\n        \"netprofitloss\": 0,\\n        \"instrumentId\": 114\\n    },\\n    {\\n        \"netprofitloss\": 0,\\n        \"instrumentId\": 115\\n    },\\n    {\\n        \"netprofitloss\": 0,\\n        \"instrumentId\": 116\\n    },\\n    {\\n        \"netprofitloss\": 0,\\n        \"instrumentId\": 117\\n    },\\n    {\\n        \"netprofitloss\": 0,\\n        \"instrumentId\": 118\\n    },\\n    {\\n        \"netprofitloss\": 0,\\n        \"instrumentId\": 119\\n    },\\n    {\\n        \"netprofitloss\": 0,\\n        \"instrumentId\": 120\\n    },\\n    {\\n        \"netprofitloss\": 0,\\n        \"instrumentId\": 121\\n    },\\n    {\\n        \"netprofitloss\": 0,\\n        \"instrumentId\": 122\\n    },\\n    {\\n        \"netprofitloss\": 0,\\n        \"instrumentId\": 123\\n    },\\n    {\\n        \"netprofitloss\": 0,\\n        \"instrumentId\": 124\\n    },\\n    {\\n        \"netprofitloss\": 0,\\n        \"instrumentId\": 125\\n    },\\n    {\\n        \"netprofitloss\": 0,\\n        \"instrumentId\": 126\\n    },\\n    {\\n        \"netprofitloss\": 0,\\n        \"instrumentId\": 127\\n    },\\n    {\\n        \"netprofitloss\": 0,\\n        \"instrumentId\": 128\\n    },\\n    {\\n        \"netprofitloss\": 0,\\n        \"instrumentId\": 129\\n    },\\n    {\\n        \"netprofitloss\": 0,\\n        \"instrumentId\": 130\\n    },\\n    {\\n        \"netprofitloss\": 0,\\n        \"instrumentId\": 131\\n    },\\n    {\\n        \"netprofitloss\": 0,\\n        \"instrumentId\": 132\\n    },\\n    {\\n        \"netprofitloss\": 0,\\n        \"instrumentId\": 133\\n    },\\n    {\\n        \"netprofitloss\": 0,\\n        \"instrumentId\": 134\\n    },\\n    {\\n        \"netprofitloss\": 0,\\n        \"instrumentId\": 135\\n    },\\n    {\\n        \"netprofitloss\": 0,\\n        \"instrumentId\": 136\\n    },\\n    {\\n        \"netprofitloss\": 0,\\n        \"instrumentId\": 137\\n    },\\n    {\\n        \"netprofitloss\": 0,\\n        \"instrumentId\": 138\\n    },\\n    {\\n        \"netprofitloss\": 0,\\n        \"instrumentId\": 139\\n    },\\n    {\\n        \"netprofitloss\": 0,\\n        \"instrumentId\": 140\\n    },\\n    {\\n        \"netprofitloss\": 0,\\n        \"instrumentId\": 141\\n    },\\n    {\\n        \"netprofitloss\": 0,\\n        \"instrumentId\": 142\\n    },\\n    {\\n        \"netprofitloss\": 0,\\n        \"instrumentId\": 143\\n    },\\n    {\\n        \"netprofitloss\": 0,\\n        \"instrumentId\": 144\\n    },\\n    {\\n        \"netprofitloss\": 0,\\n        \"instrumentId\": 145\\n    },\\n    {\\n        \"netprofitloss\": 0,\\n        \"instrumentId\": 146\\n    },\\n    {\\n        \"netprofitloss\": 0,\\n        \"instrumentId\": 147\\n    },\\n    {\\n        \"netprofitloss\": 0,\\n        \"instrumentId\": 148\\n    },\\n    {\\n        \"netprofitloss\": 0,\\n        \"instrumentId\": 149\\n    },\\n    {\\n        \"netprofitloss\": 0,\\n        \"instrumentId\": 150\\n    },\\n    {\\n        \"netprofitloss\": 0,\\n        \"instrumentId\": 151\\n    },\\n    {\\n        \"netprofitloss\": 0,\\n        \"instrumentId\": 152\\n    },\\n    {\\n        \"netprofitloss\": 0,\\n        \"instrumentId\": 153\\n    },\\n    {\\n        \"netprofitloss\": 0,\\n        \"instrumentId\": 154\\n    },\\n    {\\n        \"netprofitloss\": 0,\\n        \"instrumentId\": 155\\n    },\\n    {\\n        \"netprofitloss\": 0,\\n        \"instrumentId\": 156\\n    },\\n    {\\n        \"netprofitloss\": 0,\\n        \"instrumentId\": 157\\n    },\\n    {\\n        \"netprofitloss\": 0,\\n        \"instrumentId\": 158\\n    },\\n    {\\n        \"netprofitloss\": 0,\\n        \"instrumentId\": 159\\n    },\\n    {\\n        \"netprofitloss\": 0,\\n        \"instrumentId\": 160\\n    },\\n    {\\n        \"netprofitloss\": 0,\\n        \"instrumentId\": 161\\n    },\\n    {\\n        \"netprofitloss\": 0,\\n        \"instrumentId\": 162\\n    },\\n    {\\n        \"netprofitloss\": 0,\\n        \"instrumentId\": 163\\n    },\\n    {\\n        \"netprofitloss\": 0,\\n        \"instrumentId\": 164\\n    },\\n    {\\n        \"netprofitloss\": 0,\\n        \"instrumentId\": 165\\n    },\\n    {\\n        \"netprofitloss\": 0,\\n        \"instrumentId\": 166\\n    },\\n    {\\n        \"netprofitloss\": 0,\\n        \"instrumentId\": 167\\n    },\\n    {\\n        \"netprofitloss\": 0,\\n        \"instrumentId\": 168\\n    },\\n    {\\n        \"netprofitloss\": 0,\\n        \"instrumentId\": 169\\n    },\\n    {\\n        \"netprofitloss\": 0,\\n        \"instrumentId\": 170\\n    },\\n    {\\n        \"netprofitloss\": 0,\\n        \"instrumentId\": 171\\n    },\\n    {\\n        \"netprofitloss\": 0,\\n        \"instrumentId\": 172\\n    },\\n    {\\n        \"netprofitloss\": 0,\\n        \"instrumentId\": 173\\n    },\\n    {\\n        \"netprofitloss\": 0,\\n        \"instrumentId\": 174\\n    },\\n    {\\n        \"netprofitloss\": 0,\\n        \"instrumentId\": 175\\n    },\\n    {\\n        \"netprofitloss\": 0,\\n        \"instrumentId\": 176\\n    },\\n    {\\n        \"netprofitloss\": 0,\\n        \"instrumentId\": 177\\n    },\\n    {\\n        \"netprofitloss\": 0,\\n        \"instrumentId\": 178\\n    },\\n    {\\n        \"netprofitloss\": 0,\\n        \"instrumentId\": 179\\n    },\\n    {\\n        \"netprofitloss\": 0,\\n        \"instrumentId\": 180\\n    },\\n    {\\n        \"netprofitloss\": 0,\\n        \"instrumentId\": 181\\n    },\\n    {\\n        \"netprofitloss\": 0,\\n        \"instrumentId\": 182\\n    },\\n    {\\n        \"netprofitloss\": 0,\\n        \"instrumentId\": 183\\n    },\\n    {\\n        \"netprofitloss\": 0,\\n        \"instrumentId\": 184\\n    },\\n    {\\n        \"netprofitloss\": 0,\\n        \"instrumentId\": 185\\n    },\\n    {\\n        \"netprofitloss\": 0,\\n        \"instrumentId\": 186\\n    },\\n    {\\n        \"netprofitloss\": 0,\\n        \"instrumentId\": 187\\n    },\\n    {\\n        \"netprofitloss\": 0,\\n        \"instrumentId\": 188\\n    },\\n    {\\n        \"netprofitloss\": 0,\\n        \"instrumentId\": 189\\n    },\\n    {\\n        \"netprofitloss\": 0,\\n        \"instrumentId\": 190\\n    },\\n    {\\n        \"netprofitloss\": 0,\\n        \"instrumentId\": 191\\n    },\\n    {\\n        \"netprofitloss\": 0,\\n        \"instrumentId\": 192\\n    },\\n    {\\n        \"netprofitloss\": 0,\\n        \"instrumentId\": 193\\n    },\\n    {\\n        \"netprofitloss\": 0,\\n        \"instrumentId\": 194\\n    },\\n    {\\n        \"netprofitloss\": 0,\\n        \"instrumentId\": 195\\n    },\\n    {\\n        \"netprofitloss\": 0,\\n        \"instrumentId\": 196\\n    },\\n    {\\n        \"netprofitloss\": 0,\\n        \"instrumentId\": 197\\n    },\\n    {\\n        \"netprofitloss\": 0,\\n        \"instrumentId\": 198\\n    },\\n    {\\n        \"netprofitloss\": 0,\\n        \"instrumentId\": 199\\n    },\\n    {\\n        \"netprofitloss\": 0,\\n        \"instrumentId\": 200\\n    }\\n]'"
      ]
     },
     "execution_count": 29,
     "metadata": {},
     "output_type": "execute_result"
    }
   ],
   "source": [
    "def nearest(items, pivot):\n",
    "    return pd.to_datetime(min([i for i in items], key=lambda x: abs(x - pivot)))\n",
    "\n",
    "def view_multiple_profitloss(date, market_values, transactions):\n",
    "    end_date = pd.Timestamp(date)\n",
    "    market_values['marketValueDate']= pd.to_datetime(market_values['marketValueDate'])\n",
    "    market_values_less = market_values.loc[market_values['marketValueDate'] <= end_date]\n",
    "    instrument_ids_list = list(set(market_values_less['instrumentId'].tolist()))\n",
    "    market_values_all_instruments = pd.DataFrame(columns = ['instrumentId', 'marketValueDate', 'marketValue', 'createdAt'])\n",
    "    for id in instrument_ids_list:\n",
    "        instrument_marketValues = market_values_less.loc[market_values['instrumentId']==id]\n",
    "        closest_value_idx = instrument_marketValues.loc[instrument_marketValues['marketValueDate'] == nearest(instrument_marketValues['marketValueDate'].to_list(),end_date)].index[0]\n",
    "        market_values_all_instruments = market_values_all_instruments.append(market_values.iloc[closest_value_idx])\n",
    "\n",
    "    transactions['transactionDate']= pd.to_datetime(transactions['transactionDate'])\n",
    "    transactions = transactions.loc[(transactions['transactionDate'] < end_date)]\n",
    "    transactions = transactions[['instrumentId', 'transactionAmount', 'quantity', 'transactionDate']]\n",
    "    \n",
    "    cumulative_transactions = pd.DataFrame(transactions.groupby('instrumentId').sum())\n",
    "    #print(cumulative_transactions)\n",
    "    market_values_all_instruments['netprofitloss'] = 0\n",
    "    for id in instrument_ids_list:\n",
    "        marketValue = (market_values_all_instruments.loc[market_values_all_instruments['instrumentId']==id])['marketValue']\n",
    "        quantity = (cumulative_transactions.iloc[id-1])['quantity']\n",
    "        transaction_amount = (cumulative_transactions.iloc[id-1])['transactionAmount']\n",
    "        market_values_all_instruments.iloc[[id-1],[5]]= marketValue * (quantity/100.0) + transaction_amount\n",
    "    #print(market_values_all_instruments)\n",
    "    results = market_values_all_instruments[['netprofitloss', 'instrumentId']]\n",
    "    result = results.to_json(orient=\"records\")\n",
    "    parsed = json.loads(result)\n",
    "    return json.dumps(parsed, indent=4)\n",
    "    \n",
    "view_multiple_profitloss(\"20220430\", market_values.copy(deep=True), transactions.copy(deep=True))"
   ]
  },
  {
   "cell_type": "markdown",
   "id": "0b745ca8",
   "metadata": {},
   "source": [
    "### 4. View net profit/loss of a single investment across a date range"
   ]
  },
  {
   "cell_type": "code",
   "execution_count": 30,
   "id": "bbe9ea08",
   "metadata": {},
   "outputs": [
    {
     "name": "stderr",
     "output_type": "stream",
     "text": [
      "/var/folders/1p/n8fy0yrn49x99sx5h2hkvrtr0000gn/T/ipykernel_35476/2701344785.py:16: SettingWithCopyWarning: \n",
      "A value is trying to be set on a copy of a slice from a DataFrame.\n",
      "Try using .loc[row_indexer,col_indexer] = value instead\n",
      "\n",
      "See the caveats in the documentation: https://pandas.pydata.org/pandas-docs/stable/user_guide/indexing.html#returning-a-view-versus-a-copy\n",
      "  transactions['transactionDate']= pd.to_datetime(transactions['transactionDate'])\n"
     ]
    },
    {
     "data": {
      "text/plain": [
       "'[\\n    {\\n        \"marketValueDate\": 1606694400000,\\n        \"net_profitloss\": -3408000.0\\n    },\\n    {\\n        \"marketValueDate\": 1609372800000,\\n        \"net_profitloss\": -22458.4580000006\\n    },\\n    {\\n        \"marketValueDate\": 1612051200000,\\n        \"net_profitloss\": -22458.4580000006\\n    },\\n    {\\n        \"marketValueDate\": 1614470400000,\\n        \"net_profitloss\": -22458.4580000006\\n    },\\n    {\\n        \"marketValueDate\": 1617148800000,\\n        \"net_profitloss\": 2810830.976\\n    },\\n    {\\n        \"marketValueDate\": 1619740800000,\\n        \"net_profitloss\": 2810830.976\\n    },\\n    {\\n        \"marketValueDate\": 1622419200000,\\n        \"net_profitloss\": 2810830.976\\n    },\\n    {\\n        \"marketValueDate\": 1625011200000,\\n        \"net_profitloss\": 910589.227199994\\n    },\\n    {\\n        \"marketValueDate\": 1627689600000,\\n        \"net_profitloss\": 910589.227199994\\n    },\\n    {\\n        \"marketValueDate\": 1630368000000,\\n        \"net_profitloss\": 910589.227199994\\n    },\\n    {\\n        \"marketValueDate\": 1632960000000,\\n        \"net_profitloss\": 910589.227199994\\n    },\\n    {\\n        \"marketValueDate\": 1635638400000,\\n        \"net_profitloss\": 910589.227199994\\n    },\\n    {\\n        \"marketValueDate\": 1638230400000,\\n        \"net_profitloss\": 910589.227199994\\n    },\\n    {\\n        \"marketValueDate\": 1640908800000,\\n        \"net_profitloss\": 910589.227199994\\n    },\\n    {\\n        \"marketValueDate\": 1643587200000,\\n        \"net_profitloss\": 4145984.088799998\\n    },\\n    {\\n        \"marketValueDate\": 1646006400000,\\n        \"net_profitloss\": 4145984.088799998\\n    },\\n    {\\n        \"marketValueDate\": 1648684800000,\\n        \"net_profitloss\": 745028.3042000011\\n    },\\n    {\\n        \"marketValueDate\": 1651276800000,\\n        \"net_profitloss\": 745028.3042000011\\n    },\\n    {\\n        \"marketValueDate\": 1653955200000,\\n        \"net_profitloss\": 745028.3042000011\\n    },\\n    {\\n        \"marketValueDate\": 1656547200000,\\n        \"net_profitloss\": 745028.3042000011\\n    },\\n    {\\n        \"marketValueDate\": 1659225600000,\\n        \"net_profitloss\": 745028.3042000011\\n    },\\n    {\\n        \"marketValueDate\": 1661904000000,\\n        \"net_profitloss\": -2976971.8721999973\\n    },\\n    {\\n        \"marketValueDate\": 1664496000000,\\n        \"net_profitloss\": -9735424.433300003\\n    }\\n]'"
      ]
     },
     "execution_count": 30,
     "metadata": {},
     "output_type": "execute_result"
    }
   ],
   "source": [
    "def view_single_profitloss(start, end, instrID, market_values, transactions):\n",
    "    start_date = pd.Timestamp(start)\n",
    "    end_date = pd.Timestamp(end)\n",
    "    market_values['marketValueDate']= pd.to_datetime(market_values['marketValueDate'])\n",
    "    market_values = market_values.loc[market_values['instrumentId'] == instrID]\n",
    "    market_values = market_values.loc[(market_values['marketValueDate'] > start_date) & (market_values['marketValueDate'] < end_date)]\n",
    "    market_values = market_values.reset_index()\n",
    "    date_array = market_values['marketValueDate'].tolist()\n",
    "    market_values[\"cumulative_quantity\"] = \"\"\n",
    "    market_values[\"asset_value\"] = \"\"\n",
    "    market_values[\"cumulative_transaction_amount\"] = \"\"\n",
    "    market_values[\"net_profitloss\"] = \"\"\n",
    "    \n",
    "    \n",
    "    transactions = transactions.loc[transactions['instrumentId'] == instrID]\n",
    "    transactions['transactionDate']= pd.to_datetime(transactions['transactionDate'])\n",
    "    transactions = transactions.loc[(transactions['transactionDate'] < end_date)]\n",
    "    transactions = transactions[['instrumentId', 'transactionAmount', 'quantity', 'transactionDate']]\n",
    "    count = 0\n",
    "    for each in date_array:\n",
    "        transactions_filtered = transactions.loc[(transactions['transactionDate'] <= each)]\n",
    "        transactions_filtered = transactions_filtered.groupby(['instrumentId']).sum()\n",
    "        market_values.at[count,\"cumulative_quantity\"] = transactions_filtered['quantity'].iloc[0]\n",
    "        if np.isnan(market_values.at[count, \"cumulative_quantity\"]):\n",
    "            market_values.at[count, \"cumulative_quantity\"] = 0\n",
    "        market_values.at[count,\"cumulative_transaction_amount\"] = transactions_filtered['transactionAmount'].iloc[0]\n",
    "        market_values.at[count,\"asset_value\"] = (int(float(market_values[\"cumulative_quantity\"].iloc[count]))/100) * market_values[\"marketValue\"].iloc[count]\n",
    "        market_values.at[count,\"net_profitloss\"] = market_values[\"cumulative_transaction_amount\"].iloc[count] + market_values[\"asset_value\"].iloc[count]\n",
    "        count +=1\n",
    "        \n",
    "    results = market_values[['marketValueDate', 'net_profitloss']]\n",
    "    result = results.to_json(orient=\"records\")\n",
    "    parsed = json.loads(result)\n",
    "    return json.dumps(parsed, indent=4)\n",
    "    \n",
    "    \n",
    "    \n",
    "view_single_profitloss(\"20201117\", \"20221217\", 152, market_values, transactions)\n",
    "    \n",
    "    \n",
    "    "
   ]
  },
  {
   "cell_type": "code",
   "execution_count": null,
   "id": "f6ba3b7f",
   "metadata": {},
   "outputs": [],
   "source": []
  }
 ],
 "metadata": {
  "kernelspec": {
   "display_name": "Python 3 (ipykernel)",
   "language": "python",
   "name": "python3"
  },
  "language_info": {
   "codemirror_mode": {
    "name": "ipython",
    "version": 3
   },
   "file_extension": ".py",
   "mimetype": "text/x-python",
   "name": "python",
   "nbconvert_exporter": "python",
   "pygments_lexer": "ipython3",
   "version": "3.10.1"
  }
 },
 "nbformat": 4,
 "nbformat_minor": 5
}
