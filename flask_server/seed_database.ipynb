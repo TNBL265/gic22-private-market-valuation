{
 "cells": [
  {
   "cell_type": "code",
   "execution_count": 10,
   "metadata": {},
   "outputs": [],
   "source": [
    "import pandas as pd\n",
    "df = pd.read_csv(\"/Users/blongtran/Documents/GitHub/hackathon-app-2/flask_server/samples/instruments.csv\") "
   ]
  },
  {
   "cell_type": "code",
   "execution_count": 11,
   "metadata": {},
   "outputs": [
    {
     "name": "stdout",
     "output_type": "stream",
     "text": [
      "<bound method NDFrame.head of      instrumentId                 instrumentName  instrumentType  \\\n",
      "0               1             Armstrong - Jacobi  Private Equity   \n",
      "1               2           Armstrong - Reichert  Private Equity   \n",
      "2               3  Armstrong Sporer and Nikolaus  Private Equity   \n",
      "3               4                  Auer - Bailey  Private Equity   \n",
      "4               5             Bailey - Rosenbaum  Private Equity   \n",
      "..            ...                            ...             ...   \n",
      "195           196                  Wyman - Kling  Private Equity   \n",
      "196           197           Wyman Mohr and Johns  Private Equity   \n",
      "197           198                       Yost LLC  Private Equity   \n",
      "198           199             Yundt - Macejkovic  Private Equity   \n",
      "199           200                   Zieme - West  Private Equity   \n",
      "\n",
      "                     sector country instrumentCurrency  isTradeable  \\\n",
      "0          Consumer Staples      US                USD         True   \n",
      "1    Information Technology      US                USD         True   \n",
      "2                Healthcare      US                USD         True   \n",
      "3               Industrials      US                USD         True   \n",
      "4    Information Technology      US                USD         True   \n",
      "..                      ...     ...                ...          ...   \n",
      "195              Healthcare      DE                USD         True   \n",
      "196  Communication Services      DE                USD         True   \n",
      "197              Financials      DE                USD         True   \n",
      "198        Consumer Staples      DE                USD         True   \n",
      "199              Healthcare      DE                USD         True   \n",
      "\n",
      "               createdAt           modifiedAt  \\\n",
      "0    2019-02-01 00:00:00  2019-02-01 00:00:00   \n",
      "1    2019-02-01 00:00:00  2019-02-01 00:00:00   \n",
      "2    2019-02-01 00:00:00  2019-02-01 00:00:00   \n",
      "3    2019-02-01 00:00:00  2019-02-01 00:00:00   \n",
      "4    2019-02-01 00:00:00  2019-02-01 00:00:00   \n",
      "..                   ...                  ...   \n",
      "195  2019-02-01 00:00:00  2019-02-01 00:00:00   \n",
      "196  2019-02-01 00:00:00  2019-02-01 00:00:00   \n",
      "197  2019-02-01 00:00:00  2019-02-01 00:00:00   \n",
      "198  2019-02-01 00:00:00  2019-02-01 00:00:00   \n",
      "199  2019-02-01 00:00:00  2019-02-01 00:00:00   \n",
      "\n",
      "                                                 notes  \n",
      "0    Private Equity; Consumer Staples; Tradable Ins...  \n",
      "1    Private Equity; Information Technology; Tradab...  \n",
      "2      Private Equity; Healthcare; Tradable Instrument  \n",
      "3     Private Equity; Industrials; Tradable Instrument  \n",
      "4    Private Equity; Information Technology; Tradab...  \n",
      "..                                                 ...  \n",
      "195    Private Equity; Healthcare; Tradable Instrument  \n",
      "196  Private Equity; Communication Services; Tradab...  \n",
      "197    Private Equity; Financials; Tradable Instrument  \n",
      "198  Private Equity; Consumer Staples; Tradable Ins...  \n",
      "199    Private Equity; Healthcare; Tradable Instrument  \n",
      "\n",
      "[200 rows x 10 columns]>\n"
     ]
    }
   ],
   "source": [
    "print(df.head)"
   ]
  },
  {
   "cell_type": "code",
   "execution_count": 13,
   "metadata": {},
   "outputs": [],
   "source": [
    "df = df[['instrumentId', 'instrumentName', 'instrumentType', 'country', 'sector', 'instrumentCurrency', 'isTradeable', 'createdAt', 'modifiedAt', 'notes']]"
   ]
  },
  {
   "cell_type": "code",
   "execution_count": 14,
   "metadata": {},
   "outputs": [],
   "source": [
    "df.to_csv('/Users/blongtran/Documents/GitHub/hackathon-app-2/flask_server/samples/instruments-cleaned.csv', index=False)"
   ]
  },
  {
   "cell_type": "code",
   "execution_count": null,
   "metadata": {},
   "outputs": [],
   "source": []
  }
 ],
 "metadata": {
  "kernelspec": {
   "display_name": "Python 3 (ipykernel)",
   "language": "python",
   "name": "python3"
  },
  "language_info": {
   "codemirror_mode": {
    "name": "ipython",
    "version": 3
   },
   "file_extension": ".py",
   "mimetype": "text/x-python",
   "name": "python",
   "nbconvert_exporter": "python",
   "pygments_lexer": "ipython3",
   "version": "3.10.1"
  }
 },
 "nbformat": 4,
 "nbformat_minor": 1
}
